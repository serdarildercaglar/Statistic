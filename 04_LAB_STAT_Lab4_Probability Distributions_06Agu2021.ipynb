{
 "cells": [
  {
   "cell_type": "code",
   "execution_count": 2,
   "metadata": {},
   "outputs": [],
   "source": [
    "import numpy as np\n",
    "from scipy import stats\n",
    "import matplotlib.pyplot as plt"
   ]
  },
  {
   "cell_type": "markdown",
   "metadata": {},
   "source": [
    "## Question 1\n",
    "*Source: Wackerly, D., Mendenhall, W., & Scheaffer, R. L. (2014). Mathematical statistics with applications. Cengage Learning.*"
   ]
  },
  {
   "cell_type": "markdown",
   "metadata": {},
   "source": [
    "**Exercise 3.40**\n",
    "\n",
    "The probability that a patient recovers from a stomach disease is 0.8. \n",
    "\n",
    "Suppose 20 people are known to have contracted this disease. \n",
    "\n",
    "What is the probability that"
   ]
  },
  {
   "cell_type": "markdown",
   "metadata": {},
   "source": [
    "a. exactly 14 recover?"
   ]
  },
  {
   "cell_type": "markdown",
   "metadata": {},
   "source": [
    "this is P(X=14)"
   ]
  },
  {
   "cell_type": "code",
   "execution_count": 3,
   "metadata": {},
   "outputs": [],
   "source": [
    "n = 20\n",
    "p = 0.8\n",
    "k = 14\n",
    "\n",
    "# scipy kodlarında x yerine k kullanıldığı için burada da k değişkenini kullandık."
   ]
  },
  {
   "cell_type": "raw",
   "metadata": {},
   "source": [
    "binomial dediğimiz zaman p ve n akla gelmeli ve başarı olasılığı.\n",
    "\n",
    "exactly bana pmf kullanacağımı söylüyor. tam olarak 14'ün karşılığını arıyorum."
   ]
  },
  {
   "cell_type": "code",
   "execution_count": 4,
   "metadata": {},
   "outputs": [
    {
     "data": {
      "text/plain": [
       "0.10909970097304983"
      ]
     },
     "execution_count": 4,
     "metadata": {},
     "output_type": "execute_result"
    }
   ],
   "source": [
    "stats.binom.pmf(k, n, p)"
   ]
  },
  {
   "cell_type": "markdown",
   "metadata": {},
   "source": [
    "b. at least 10 recover?"
   ]
  },
  {
   "cell_type": "markdown",
   "metadata": {},
   "source": [
    "this is P(X≥10)=P(10)+P(11)+P(12)+...+P(20)\n",
    "\n",
    "or 1- P(X<10)"
   ]
  },
  {
   "cell_type": "code",
   "execution_count": null,
   "metadata": {},
   "outputs": [],
   "source": []
  },
  {
   "cell_type": "code",
   "execution_count": 5,
   "metadata": {},
   "outputs": [],
   "source": [
    "k = 9\n",
    "\n",
    "# k=10 yaparsam (1- kümülatif(X=10) ) dediğimde 10'u da çıkaracağı için elimde 11 --> 20 kalacaktır. \n",
    "# ama ben 10-->20 toplamını arıyorum\n",
    "# bu yüzden k=9 yaptım"
   ]
  },
  {
   "cell_type": "code",
   "execution_count": 6,
   "metadata": {},
   "outputs": [
    {
     "data": {
      "text/plain": [
       "0.0005634136976601897"
      ]
     },
     "execution_count": 6,
     "metadata": {},
     "output_type": "execute_result"
    }
   ],
   "source": [
    "stats.binom.cdf(k, n, p) \n",
    "\n",
    "# Bu, 10'a kadar olan probabilitylerin toplamı"
   ]
  },
  {
   "cell_type": "code",
   "execution_count": 7,
   "metadata": {},
   "outputs": [
    {
     "data": {
      "text/plain": [
       "0.9994365863023398"
      ]
     },
     "execution_count": 7,
     "metadata": {},
     "output_type": "execute_result"
    }
   ],
   "source": [
    "1 - stats.binom.cdf(k, n, p)"
   ]
  },
  {
   "cell_type": "code",
   "execution_count": 10,
   "metadata": {},
   "outputs": [
    {
     "data": {
      "text/plain": [
       "0.000461684932503141"
      ]
     },
     "execution_count": 10,
     "metadata": {},
     "output_type": "execute_result"
    }
   ],
   "source": [
    "stats.binom.pmf(k,n,p)"
   ]
  },
  {
   "cell_type": "code",
   "execution_count": 11,
   "metadata": {},
   "outputs": [
    {
     "data": {
      "text/plain": [
       "0.9995383150674969"
      ]
     },
     "execution_count": 11,
     "metadata": {},
     "output_type": "execute_result"
    }
   ],
   "source": [
    "1-stats.binom.pmf(k,n,p)"
   ]
  },
  {
   "cell_type": "markdown",
   "metadata": {},
   "source": [
    "c. at least 14 but not more than 18 recover?"
   ]
  },
  {
   "cell_type": "code",
   "execution_count": 14,
   "metadata": {},
   "outputs": [],
   "source": [
    "# önce uzun yoldan yapıyorumthis is P(14≤X≤18)=P(14)+P(15)+...+P(18)\n",
    "\n",
    "x1 = 14\n",
    "x2 = 18"
   ]
  },
  {
   "cell_type": "code",
   "execution_count": 8,
   "metadata": {},
   "outputs": [
    {
     "data": {
      "text/plain": [
       "0.8441321961561871"
      ]
     },
     "execution_count": 8,
     "metadata": {},
     "output_type": "execute_result"
    }
   ],
   "source": [
    "stats.binom.pmf(14,n,p)+stats.binom.pmf(15,n,p)+stats.binom.pmf(16,n,p)+stats.binom.pmf(17,n,p)+stats.binom.pmf(18,n,p)"
   ]
  },
  {
   "cell_type": "code",
   "execution_count": 15,
   "metadata": {},
   "outputs": [
    {
     "data": {
      "text/plain": [
       "0.844132196156189"
      ]
     },
     "execution_count": 15,
     "metadata": {},
     "output_type": "execute_result"
    }
   ],
   "source": [
    "# bunu daha kısa yoldan cmf ile yapalım:\n",
    "\n",
    "stats.binom.cdf(x2,n,p) - stats.binom.cdf(x1-1,n,p)\n"
   ]
  },
  {
   "cell_type": "markdown",
   "metadata": {},
   "source": [
    "d. at most 16 recover?"
   ]
  },
  {
   "cell_type": "markdown",
   "metadata": {},
   "source": [
    "this is P(X≤16)=1−P(X>16)=P(17)+P(18)+P(19)+P(20)"
   ]
  },
  {
   "cell_type": "code",
   "execution_count": 16,
   "metadata": {},
   "outputs": [],
   "source": [
    "k = 16\n",
    "\n",
    "# at most dediği için 16'yı dahil olarak kabul edeceğiz."
   ]
  },
  {
   "cell_type": "code",
   "execution_count": 17,
   "metadata": {},
   "outputs": [
    {
     "data": {
      "text/plain": [
       "0.5885511380434305"
      ]
     },
     "execution_count": 17,
     "metadata": {},
     "output_type": "execute_result"
    }
   ],
   "source": [
    "stats.binom.cdf(k,n,p)"
   ]
  },
  {
   "cell_type": "markdown",
   "metadata": {},
   "source": [
    "e. Construct discrete probability distribution table and draw a graph"
   ]
  },
  {
   "cell_type": "code",
   "execution_count": 13,
   "metadata": {},
   "outputs": [
    {
     "name": "stdout",
     "output_type": "stream",
     "text": [
      "0\t1.048576000000001e-14\n",
      "1\t8.388607999999975e-13\n",
      "2\t3.187671040000001e-11\n",
      "3\t7.650410495999974e-10\n",
      "4\t1.3005697843199945e-08\n",
      "5\t1.6647293239295892e-07\n",
      "6\t1.664729323929588e-06\n",
      "7\t1.3317834591436803e-05\n",
      "8\t8.656592484433902e-05\n",
      "9\t0.000461684932503141\n",
      "10\t0.002031413703013826\n",
      "11\t0.007386958920050259\n",
      "12\t0.022160876760150803\n",
      "13\t0.0545498504865252\n",
      "14\t0.10909970097304983\n",
      "15\t0.17455952155687976\n",
      "16\t0.21819940194610007\n",
      "17\t0.2053641430080944\n",
      "18\t0.13690942867206304\n",
      "19\t0.05764607523034236\n",
      "20\t0.011529215046068481\n"
     ]
    }
   ],
   "source": [
    "dist = []\n",
    "\n",
    "for i in range(n+1):\n",
    "    dist.append(stats.binom.pmf(i,n,p))\n",
    "    print(str(i) + \"\\t\" + str(stats.binom.pmf(i,n,p)))"
   ]
  },
  {
   "cell_type": "code",
   "execution_count": 14,
   "metadata": {},
   "outputs": [
    {
     "data": {
      "image/png": "[encoded data removed]",
      "text/plain": [
       "<Figure size 432x288 with 1 Axes>"
      ]
     },
     "metadata": {
      "needs_background": "light"
     },
     "output_type": "display_data"
    }
   ],
   "source": [
    "# bunun plotunu çizelim\n",
    "\n",
    "plt.bar(list(range(n+1)), dist);"
   ]
  },
  {
   "cell_type": "markdown",
   "metadata": {},
   "source": [
    "## Question 2\n",
    "*Source: Wackerly, D., Mendenhall, W., & Scheaffer, R. L. (2014). Mathematical statistics with applications. Cengage Learning.*"
   ]
  },
  {
   "cell_type": "markdown",
   "metadata": {},
   "source": [
    "**Exercise 4.74**\n",
    "\n",
    "Scores on an examination are assumed to be normally distributed with mean 78 and variance 36."
   ]
  },
  {
   "cell_type": "markdown",
   "metadata": {},
   "source": [
    "a. What is the probability that a person taking the examination scores higher than 72?"
   ]
  },
  {
   "cell_type": "markdown",
   "metadata": {},
   "source": [
    "this is P(X>72)"
   ]
  },
  {
   "cell_type": "code",
   "execution_count": 20,
   "metadata": {},
   "outputs": [],
   "source": [
    "mu = 78\n",
    "sigma = np.sqrt(36)\n",
    "x = 72\n",
    "\n",
    "# cmf ile 72'e kadar olan toplamı bulurum sonra 1 den cdf (72) yi çıkartırım."
   ]
  },
  {
   "cell_type": "code",
   "execution_count": 21,
   "metadata": {},
   "outputs": [
    {
     "data": {
      "text/plain": [
       "0.15865525393145707"
      ]
     },
     "execution_count": 21,
     "metadata": {},
     "output_type": "execute_result"
    }
   ],
   "source": [
    "stats.norm.cdf(x, mu, sigma)"
   ]
  },
  {
   "cell_type": "code",
   "execution_count": 22,
   "metadata": {},
   "outputs": [
    {
     "data": {
      "text/plain": [
       "0.8413447460685429"
      ]
     },
     "execution_count": 22,
     "metadata": {},
     "output_type": "execute_result"
    }
   ],
   "source": [
    "# 72'den fazla olanların olasılığını bulabilmem için 72'ye kadar olanı 1 den çıkartmam lazım.\n",
    "\n",
    "1 - stats.norm.cdf(x,mu,sigma)"
   ]
  },
  {
   "cell_type": "markdown",
   "metadata": {},
   "source": [
    "b. Suppose that students scoring in the top 10% of this distribution are to receive an A grade.\n",
    "What is the minimum score a student must achieve to earn an A grade?"
   ]
  },
  {
   "cell_type": "code",
   "execution_count": 23,
   "metadata": {},
   "outputs": [],
   "source": [
    "# ilk yüzde 10 notuna A veriliyor. en az kaç alması lazım ki not A gelsin?\n",
    "\n",
    "# ppf kullanacağım.\n",
    "# ppf'in cdf'in tersi olduğunu hatırlayalım!\n",
    "\n",
    "q = 1 - 0.1\n"
   ]
  },
  {
   "cell_type": "code",
   "execution_count": 24,
   "metadata": {},
   "outputs": [
    {
     "data": {
      "text/plain": [
       "85.6893093932676"
      ]
     },
     "execution_count": 24,
     "metadata": {},
     "output_type": "execute_result"
    }
   ],
   "source": [
    "stats.norm.ppf(q, mu, sigma)\n",
    "\n",
    "# 85.68 alırsa notu A gelir."
   ]
  },
  {
   "cell_type": "code",
   "execution_count": 25,
   "metadata": {},
   "outputs": [
    {
     "data": {
      "text/plain": [
       "0.9000000000000001"
      ]
     },
     "execution_count": 25,
     "metadata": {},
     "output_type": "execute_result"
    }
   ],
   "source": [
    "a = stats.norm.ppf(q, mu, sigma)\n",
    "\n",
    "stats.norm.cdf(a, mu, sigma)\n",
    "\n",
    "# cdf i kullandığında value'dan (x'ten) olasılığa (p'ye) ulaşıyorsun, \n",
    "# ppf i kullandığında kümülatif olasılıktan value'ya (x'e) ulaşıyorsun"
   ]
  },
  {
   "cell_type": "code",
   "execution_count": 19,
   "metadata": {},
   "outputs": [
    {
     "data": {
      "text/plain": [
       "0.9003123403704779"
      ]
     },
     "execution_count": 19,
     "metadata": {},
     "output_type": "execute_result"
    }
   ],
   "source": [
    "stats.norm.cdf(85.7,mu,sigma) \n",
    "\n",
    "# cdf'in içine parametre olarak ppf'i koyduk (85.7) ve p ye ulaştık"
   ]
  },
  {
   "cell_type": "markdown",
   "metadata": {},
   "source": [
    "c. What must be the cutoff point for passing the examination if the examiner wants only the\n",
    "top 28.1% of all scores to be passing?"
   ]
  },
  {
   "cell_type": "code",
   "execution_count": 20,
   "metadata": {},
   "outputs": [
    {
     "data": {
      "text/plain": [
       "0.719"
      ]
     },
     "execution_count": 20,
     "metadata": {},
     "output_type": "execute_result"
    }
   ],
   "source": [
    "q = 1 - 0.281\n",
    "q"
   ]
  },
  {
   "cell_type": "code",
   "execution_count": 21,
   "metadata": {},
   "outputs": [
    {
     "data": {
      "text/plain": [
       "81.47924035456623"
      ]
     },
     "execution_count": 21,
     "metadata": {},
     "output_type": "execute_result"
    }
   ],
   "source": [
    "stats.norm.ppf(q,mu,sigma)\n",
    "\n",
    "# stats.norm.ppf(1-0.28,mu, sigma)"
   ]
  },
  {
   "cell_type": "markdown",
   "metadata": {},
   "source": [
    "d. Approximately what proportion of students have scores 5 or more points above the score\n",
    "that cuts off the lowest 25%?"
   ]
  },
  {
   "cell_type": "code",
   "execution_count": 22,
   "metadata": {},
   "outputs": [
    {
     "data": {
      "text/plain": [
       "73.95306149882352"
      ]
     },
     "execution_count": 22,
     "metadata": {},
     "output_type": "execute_result"
    }
   ],
   "source": [
    "q1 = 0.25\n",
    "x1 = stats.norm.ppf(q1,mu,sigma)\n",
    "x1"
   ]
  },
  {
   "cell_type": "code",
   "execution_count": 23,
   "metadata": {},
   "outputs": [
    {
     "data": {
      "text/plain": [
       "0.43689605516226615"
      ]
     },
     "execution_count": 23,
     "metadata": {},
     "output_type": "execute_result"
    }
   ],
   "source": [
    "1 - stats.norm.cdf(x1+5,mu,sigma)"
   ]
  },
  {
   "cell_type": "markdown",
   "metadata": {},
   "source": [
    "*OPTIONAL*\n",
    "\n",
    "f. If it is known that a student’s score exceeds 72, what is the probability that his or her score\n",
    "exceeds 84? "
   ]
  },
  {
   "cell_type": "raw",
   "metadata": {},
   "source": [
    "Bu soru ödev olarak bize bırakıldı"
   ]
  },
  {
   "cell_type": "code",
   "execution_count": null,
   "metadata": {},
   "outputs": [],
   "source": []
  },
  {
   "cell_type": "markdown",
   "metadata": {},
   "source": [
    "## Question 3\n",
    "*Lane, D. (2006). Online statistics education: a multimedia course of study (http://onlinestatbook.com/). Rice University.*"
   ]
  },
  {
   "cell_type": "markdown",
   "metadata": {},
   "source": [
    "For a t distribution with 15 degrees of freedom, 90% of the distribution is within how many standard deviations of the mean?"
   ]
  },
  {
   "cell_type": "raw",
   "metadata": {},
   "source": [
    "serbestlik derecesi sonsuz olan dağılım \"normal dağılım\" dır.\n",
    "serbestlik derecesi 30 dan fazla olan dağılımı artık normal dağılım olarak alabiliriz"
   ]
  },
  {
   "cell_type": "code",
   "execution_count": 24,
   "metadata": {},
   "outputs": [],
   "source": [
    "# 90% distribution dediğimiz zaman soldan ve sağdan 0.05'er yüzdeler kalmış demektir.\n",
    "\n",
    "dof = 15\n",
    "q = 0.95"
   ]
  },
  {
   "cell_type": "code",
   "execution_count": 25,
   "metadata": {},
   "outputs": [
    {
     "data": {
      "text/plain": [
       "1.7530503556925547"
      ]
     },
     "execution_count": 25,
     "metadata": {},
     "output_type": "execute_result"
    }
   ],
   "source": [
    "stats.t.ppf(q, dof)\n",
    "\n",
    "# t dağılımı! diğer dağılımlardan tek farklı degrees of freedom (dof) olması. \n",
    "# dof,  30'dan fazla ise zaten normal dağılıma giriyor. t deyince dof 30 dan az olmalı."
   ]
  },
  {
   "cell_type": "code",
   "execution_count": 26,
   "metadata": {},
   "outputs": [
    {
     "data": {
      "text/plain": [
       "array([-5.        , -4.98998999, -4.97997998, -4.96996997, -4.95995996,\n",
       "       -4.94994995, -4.93993994, -4.92992993, -4.91991992, -4.90990991,\n",
       "       -4.8998999 , -4.88988989, -4.87987988, -4.86986987, -4.85985986,\n",
       "       -4.84984985, -4.83983984, -4.82982983, -4.81981982, -4.80980981,\n",
       "       -4.7997998 , -4.78978979, -4.77977978, -4.76976977, -4.75975976,\n",
       "       -4.74974975, -4.73973974, -4.72972973, -4.71971972, -4.70970971,\n",
       "       -4.6996997 , -4.68968969, -4.67967968, -4.66966967, -4.65965966,\n",
       "       -4.64964965, -4.63963964, -4.62962963, -4.61961962, -4.60960961,\n",
       "       -4.5995996 , -4.58958959, -4.57957958, -4.56956957, -4.55955956,\n",
       "       -4.54954955, -4.53953954, -4.52952953, -4.51951952, -4.50950951,\n",
       "       -4.4994995 , -4.48948949, -4.47947948, -4.46946947, -4.45945946,\n",
       "       -4.44944945, -4.43943944, -4.42942943, -4.41941942, -4.40940941,\n",
       "       -4.3993994 , -4.38938939, -4.37937938, -4.36936937, -4.35935936,\n",
       "       -4.34934935, -4.33933934, -4.32932933, -4.31931932, -4.30930931,\n",
       "       -4.2992993 , -4.28928929, -4.27927928, -4.26926927, -4.25925926,\n",
       "       -4.24924925, -4.23923924, -4.22922923, -4.21921922, -4.20920921,\n",
       "       -4.1991992 , -4.18918919, -4.17917918, -4.16916917, -4.15915916,\n",
       "       -4.14914915, -4.13913914, -4.12912913, -4.11911912, -4.10910911,\n",
       "       -4.0990991 , -4.08908909, -4.07907908, -4.06906907, -4.05905906,\n",
       "       -4.04904905, -4.03903904, -4.02902903, -4.01901902, -4.00900901,\n",
       "       -3.998999  , -3.98898899, -3.97897898, -3.96896897, -3.95895896,\n",
       "       -3.94894895, -3.93893894, -3.92892893, -3.91891892, -3.90890891,\n",
       "       -3.8988989 , -3.88888889, -3.87887888, -3.86886887, -3.85885886,\n",
       "       -3.84884885, -3.83883884, -3.82882883, -3.81881882, -3.80880881,\n",
       "       -3.7987988 , -3.78878879, -3.77877878, -3.76876877, -3.75875876,\n",
       "       -3.74874875, -3.73873874, -3.72872873, -3.71871872, -3.70870871,\n",
       "       -3.6986987 , -3.68868869, -3.67867868, -3.66866867, -3.65865866,\n",
       "       -3.64864865, -3.63863864, -3.62862863, -3.61861862, -3.60860861,\n",
       "       -3.5985986 , -3.58858859, -3.57857858, -3.56856857, -3.55855856,\n",
       "       -3.54854855, -3.53853854, -3.52852853, -3.51851852, -3.50850851,\n",
       "       -3.4984985 , -3.48848849, -3.47847848, -3.46846847, -3.45845846,\n",
       "       -3.44844845, -3.43843844, -3.42842843, -3.41841842, -3.40840841,\n",
       "       -3.3983984 , -3.38838839, -3.37837838, -3.36836837, -3.35835836,\n",
       "       -3.34834835, -3.33833834, -3.32832833, -3.31831832, -3.30830831,\n",
       "       -3.2982983 , -3.28828829, -3.27827828, -3.26826827, -3.25825826,\n",
       "       -3.24824825, -3.23823824, -3.22822823, -3.21821822, -3.20820821,\n",
       "       -3.1981982 , -3.18818819, -3.17817818, -3.16816817, -3.15815816,\n",
       "       -3.14814815, -3.13813814, -3.12812813, -3.11811812, -3.10810811,\n",
       "       -3.0980981 , -3.08808809, -3.07807808, -3.06806807, -3.05805806,\n",
       "       -3.04804805, -3.03803804, -3.02802803, -3.01801802, -3.00800801,\n",
       "       -2.997998  , -2.98798799, -2.97797798, -2.96796797, -2.95795796,\n",
       "       -2.94794795, -2.93793794, -2.92792793, -2.91791792, -2.90790791,\n",
       "       -2.8978979 , -2.88788789, -2.87787788, -2.86786787, -2.85785786,\n",
       "       -2.84784785, -2.83783784, -2.82782783, -2.81781782, -2.80780781,\n",
       "       -2.7977978 , -2.78778779, -2.77777778, -2.76776777, -2.75775776,\n",
       "       -2.74774775, -2.73773774, -2.72772773, -2.71771772, -2.70770771,\n",
       "       -2.6976977 , -2.68768769, -2.67767768, -2.66766767, -2.65765766,\n",
       "       -2.64764765, -2.63763764, -2.62762763, -2.61761762, -2.60760761,\n",
       "       -2.5975976 , -2.58758759, -2.57757758, -2.56756757, -2.55755756,\n",
       "       -2.54754755, -2.53753754, -2.52752753, -2.51751752, -2.50750751,\n",
       "       -2.4974975 , -2.48748749, -2.47747748, -2.46746747, -2.45745746,\n",
       "       -2.44744745, -2.43743744, -2.42742743, -2.41741742, -2.40740741,\n",
       "       -2.3973974 , -2.38738739, -2.37737738, -2.36736737, -2.35735736,\n",
       "       -2.34734735, -2.33733734, -2.32732733, -2.31731732, -2.30730731,\n",
       "       -2.2972973 , -2.28728729, -2.27727728, -2.26726727, -2.25725726,\n",
       "       -2.24724725, -2.23723724, -2.22722723, -2.21721722, -2.20720721,\n",
       "       -2.1971972 , -2.18718719, -2.17717718, -2.16716717, -2.15715716,\n",
       "       -2.14714715, -2.13713714, -2.12712713, -2.11711712, -2.10710711,\n",
       "       -2.0970971 , -2.08708709, -2.07707708, -2.06706707, -2.05705706,\n",
       "       -2.04704705, -2.03703704, -2.02702703, -2.01701702, -2.00700701,\n",
       "       -1.996997  , -1.98698699, -1.97697698, -1.96696697, -1.95695696,\n",
       "       -1.94694695, -1.93693694, -1.92692693, -1.91691692, -1.90690691,\n",
       "       -1.8968969 , -1.88688689, -1.87687688, -1.86686687, -1.85685686,\n",
       "       -1.84684685, -1.83683684, -1.82682683, -1.81681682, -1.80680681,\n",
       "       -1.7967968 , -1.78678679, -1.77677678, -1.76676677, -1.75675676,\n",
       "       -1.74674675, -1.73673674, -1.72672673, -1.71671672, -1.70670671,\n",
       "       -1.6966967 , -1.68668669, -1.67667668, -1.66666667, -1.65665666,\n",
       "       -1.64664665, -1.63663664, -1.62662663, -1.61661662, -1.60660661,\n",
       "       -1.5965966 , -1.58658659, -1.57657658, -1.56656657, -1.55655656,\n",
       "       -1.54654655, -1.53653654, -1.52652653, -1.51651652, -1.50650651,\n",
       "       -1.4964965 , -1.48648649, -1.47647648, -1.46646647, -1.45645646,\n",
       "       -1.44644645, -1.43643644, -1.42642643, -1.41641642, -1.40640641,\n",
       "       -1.3963964 , -1.38638639, -1.37637638, -1.36636637, -1.35635636,\n",
       "       -1.34634635, -1.33633634, -1.32632633, -1.31631632, -1.30630631,\n",
       "       -1.2962963 , -1.28628629, -1.27627628, -1.26626627, -1.25625626,\n",
       "       -1.24624625, -1.23623624, -1.22622623, -1.21621622, -1.20620621,\n",
       "       -1.1961962 , -1.18618619, -1.17617618, -1.16616617, -1.15615616,\n",
       "       -1.14614615, -1.13613614, -1.12612613, -1.11611612, -1.10610611,\n",
       "       -1.0960961 , -1.08608609, -1.07607608, -1.06606607, -1.05605606,\n",
       "       -1.04604605, -1.03603604, -1.02602603, -1.01601602, -1.00600601,\n",
       "       -0.995996  , -0.98598599, -0.97597598, -0.96596597, -0.95595596,\n",
       "       -0.94594595, -0.93593594, -0.92592593, -0.91591592, -0.90590591,\n",
       "       -0.8958959 , -0.88588589, -0.87587588, -0.86586587, -0.85585586,\n",
       "       -0.84584585, -0.83583584, -0.82582583, -0.81581582, -0.80580581,\n",
       "       -0.7957958 , -0.78578579, -0.77577578, -0.76576577, -0.75575576,\n",
       "       -0.74574575, -0.73573574, -0.72572573, -0.71571572, -0.70570571,\n",
       "       -0.6956957 , -0.68568569, -0.67567568, -0.66566567, -0.65565566,\n",
       "       -0.64564565, -0.63563564, -0.62562563, -0.61561562, -0.60560561,\n",
       "       -0.5955956 , -0.58558559, -0.57557558, -0.56556557, -0.55555556,\n",
       "       -0.54554555, -0.53553554, -0.52552553, -0.51551552, -0.50550551,\n",
       "       -0.4954955 , -0.48548549, -0.47547548, -0.46546547, -0.45545546,\n",
       "       -0.44544545, -0.43543544, -0.42542543, -0.41541542, -0.40540541,\n",
       "       -0.3953954 , -0.38538539, -0.37537538, -0.36536537, -0.35535536,\n",
       "       -0.34534535, -0.33533534, -0.32532533, -0.31531532, -0.30530531,\n",
       "       -0.2952953 , -0.28528529, -0.27527528, -0.26526527, -0.25525526,\n",
       "       -0.24524525, -0.23523524, -0.22522523, -0.21521522, -0.20520521,\n",
       "       -0.1951952 , -0.18518519, -0.17517518, -0.16516517, -0.15515516,\n",
       "       -0.14514515, -0.13513514, -0.12512513, -0.11511512, -0.10510511,\n",
       "       -0.0950951 , -0.08508509, -0.07507508, -0.06506507, -0.05505506,\n",
       "       -0.04504505, -0.03503504, -0.02502503, -0.01501502, -0.00500501,\n",
       "        0.00500501,  0.01501502,  0.02502503,  0.03503504,  0.04504505,\n",
       "        0.05505506,  0.06506507,  0.07507508,  0.08508509,  0.0950951 ,\n",
       "        0.10510511,  0.11511512,  0.12512513,  0.13513514,  0.14514515,\n",
       "        0.15515516,  0.16516517,  0.17517518,  0.18518519,  0.1951952 ,\n",
       "        0.20520521,  0.21521522,  0.22522523,  0.23523524,  0.24524525,\n",
       "        0.25525526,  0.26526527,  0.27527528,  0.28528529,  0.2952953 ,\n",
       "        0.30530531,  0.31531532,  0.32532533,  0.33533534,  0.34534535,\n",
       "        0.35535536,  0.36536537,  0.37537538,  0.38538539,  0.3953954 ,\n",
       "        0.40540541,  0.41541542,  0.42542543,  0.43543544,  0.44544545,\n",
       "        0.45545546,  0.46546547,  0.47547548,  0.48548549,  0.4954955 ,\n",
       "        0.50550551,  0.51551552,  0.52552553,  0.53553554,  0.54554555,\n",
       "        0.55555556,  0.56556557,  0.57557558,  0.58558559,  0.5955956 ,\n",
       "        0.60560561,  0.61561562,  0.62562563,  0.63563564,  0.64564565,\n",
       "        0.65565566,  0.66566567,  0.67567568,  0.68568569,  0.6956957 ,\n",
       "        0.70570571,  0.71571572,  0.72572573,  0.73573574,  0.74574575,\n",
       "        0.75575576,  0.76576577,  0.77577578,  0.78578579,  0.7957958 ,\n",
       "        0.80580581,  0.81581582,  0.82582583,  0.83583584,  0.84584585,\n",
       "        0.85585586,  0.86586587,  0.87587588,  0.88588589,  0.8958959 ,\n",
       "        0.90590591,  0.91591592,  0.92592593,  0.93593594,  0.94594595,\n",
       "        0.95595596,  0.96596597,  0.97597598,  0.98598599,  0.995996  ,\n",
       "        1.00600601,  1.01601602,  1.02602603,  1.03603604,  1.04604605,\n",
       "        1.05605606,  1.06606607,  1.07607608,  1.08608609,  1.0960961 ,\n",
       "        1.10610611,  1.11611612,  1.12612613,  1.13613614,  1.14614615,\n",
       "        1.15615616,  1.16616617,  1.17617618,  1.18618619,  1.1961962 ,\n",
       "        1.20620621,  1.21621622,  1.22622623,  1.23623624,  1.24624625,\n",
       "        1.25625626,  1.26626627,  1.27627628,  1.28628629,  1.2962963 ,\n",
       "        1.30630631,  1.31631632,  1.32632633,  1.33633634,  1.34634635,\n",
       "        1.35635636,  1.36636637,  1.37637638,  1.38638639,  1.3963964 ,\n",
       "        1.40640641,  1.41641642,  1.42642643,  1.43643644,  1.44644645,\n",
       "        1.45645646,  1.46646647,  1.47647648,  1.48648649,  1.4964965 ,\n",
       "        1.50650651,  1.51651652,  1.52652653,  1.53653654,  1.54654655,\n",
       "        1.55655656,  1.56656657,  1.57657658,  1.58658659,  1.5965966 ,\n",
       "        1.60660661,  1.61661662,  1.62662663,  1.63663664,  1.64664665,\n",
       "        1.65665666,  1.66666667,  1.67667668,  1.68668669,  1.6966967 ,\n",
       "        1.70670671,  1.71671672,  1.72672673,  1.73673674,  1.74674675,\n",
       "        1.75675676,  1.76676677,  1.77677678,  1.78678679,  1.7967968 ,\n",
       "        1.80680681,  1.81681682,  1.82682683,  1.83683684,  1.84684685,\n",
       "        1.85685686,  1.86686687,  1.87687688,  1.88688689,  1.8968969 ,\n",
       "        1.90690691,  1.91691692,  1.92692693,  1.93693694,  1.94694695,\n",
       "        1.95695696,  1.96696697,  1.97697698,  1.98698699,  1.996997  ,\n",
       "        2.00700701,  2.01701702,  2.02702703,  2.03703704,  2.04704705,\n",
       "        2.05705706,  2.06706707,  2.07707708,  2.08708709,  2.0970971 ,\n",
       "        2.10710711,  2.11711712,  2.12712713,  2.13713714,  2.14714715,\n",
       "        2.15715716,  2.16716717,  2.17717718,  2.18718719,  2.1971972 ,\n",
       "        2.20720721,  2.21721722,  2.22722723,  2.23723724,  2.24724725,\n",
       "        2.25725726,  2.26726727,  2.27727728,  2.28728729,  2.2972973 ,\n",
       "        2.30730731,  2.31731732,  2.32732733,  2.33733734,  2.34734735,\n",
       "        2.35735736,  2.36736737,  2.37737738,  2.38738739,  2.3973974 ,\n",
       "        2.40740741,  2.41741742,  2.42742743,  2.43743744,  2.44744745,\n",
       "        2.45745746,  2.46746747,  2.47747748,  2.48748749,  2.4974975 ,\n",
       "        2.50750751,  2.51751752,  2.52752753,  2.53753754,  2.54754755,\n",
       "        2.55755756,  2.56756757,  2.57757758,  2.58758759,  2.5975976 ,\n",
       "        2.60760761,  2.61761762,  2.62762763,  2.63763764,  2.64764765,\n",
       "        2.65765766,  2.66766767,  2.67767768,  2.68768769,  2.6976977 ,\n",
       "        2.70770771,  2.71771772,  2.72772773,  2.73773774,  2.74774775,\n",
       "        2.75775776,  2.76776777,  2.77777778,  2.78778779,  2.7977978 ,\n",
       "        2.80780781,  2.81781782,  2.82782783,  2.83783784,  2.84784785,\n",
       "        2.85785786,  2.86786787,  2.87787788,  2.88788789,  2.8978979 ,\n",
       "        2.90790791,  2.91791792,  2.92792793,  2.93793794,  2.94794795,\n",
       "        2.95795796,  2.96796797,  2.97797798,  2.98798799,  2.997998  ,\n",
       "        3.00800801,  3.01801802,  3.02802803,  3.03803804,  3.04804805,\n",
       "        3.05805806,  3.06806807,  3.07807808,  3.08808809,  3.0980981 ,\n",
       "        3.10810811,  3.11811812,  3.12812813,  3.13813814,  3.14814815,\n",
       "        3.15815816,  3.16816817,  3.17817818,  3.18818819,  3.1981982 ,\n",
       "        3.20820821,  3.21821822,  3.22822823,  3.23823824,  3.24824825,\n",
       "        3.25825826,  3.26826827,  3.27827828,  3.28828829,  3.2982983 ,\n",
       "        3.30830831,  3.31831832,  3.32832833,  3.33833834,  3.34834835,\n",
       "        3.35835836,  3.36836837,  3.37837838,  3.38838839,  3.3983984 ,\n",
       "        3.40840841,  3.41841842,  3.42842843,  3.43843844,  3.44844845,\n",
       "        3.45845846,  3.46846847,  3.47847848,  3.48848849,  3.4984985 ,\n",
       "        3.50850851,  3.51851852,  3.52852853,  3.53853854,  3.54854855,\n",
       "        3.55855856,  3.56856857,  3.57857858,  3.58858859,  3.5985986 ,\n",
       "        3.60860861,  3.61861862,  3.62862863,  3.63863864,  3.64864865,\n",
       "        3.65865866,  3.66866867,  3.67867868,  3.68868869,  3.6986987 ,\n",
       "        3.70870871,  3.71871872,  3.72872873,  3.73873874,  3.74874875,\n",
       "        3.75875876,  3.76876877,  3.77877878,  3.78878879,  3.7987988 ,\n",
       "        3.80880881,  3.81881882,  3.82882883,  3.83883884,  3.84884885,\n",
       "        3.85885886,  3.86886887,  3.87887888,  3.88888889,  3.8988989 ,\n",
       "        3.90890891,  3.91891892,  3.92892893,  3.93893894,  3.94894895,\n",
       "        3.95895896,  3.96896897,  3.97897898,  3.98898899,  3.998999  ,\n",
       "        4.00900901,  4.01901902,  4.02902903,  4.03903904,  4.04904905,\n",
       "        4.05905906,  4.06906907,  4.07907908,  4.08908909,  4.0990991 ,\n",
       "        4.10910911,  4.11911912,  4.12912913,  4.13913914,  4.14914915,\n",
       "        4.15915916,  4.16916917,  4.17917918,  4.18918919,  4.1991992 ,\n",
       "        4.20920921,  4.21921922,  4.22922923,  4.23923924,  4.24924925,\n",
       "        4.25925926,  4.26926927,  4.27927928,  4.28928929,  4.2992993 ,\n",
       "        4.30930931,  4.31931932,  4.32932933,  4.33933934,  4.34934935,\n",
       "        4.35935936,  4.36936937,  4.37937938,  4.38938939,  4.3993994 ,\n",
       "        4.40940941,  4.41941942,  4.42942943,  4.43943944,  4.44944945,\n",
       "        4.45945946,  4.46946947,  4.47947948,  4.48948949,  4.4994995 ,\n",
       "        4.50950951,  4.51951952,  4.52952953,  4.53953954,  4.54954955,\n",
       "        4.55955956,  4.56956957,  4.57957958,  4.58958959,  4.5995996 ,\n",
       "        4.60960961,  4.61961962,  4.62962963,  4.63963964,  4.64964965,\n",
       "        4.65965966,  4.66966967,  4.67967968,  4.68968969,  4.6996997 ,\n",
       "        4.70970971,  4.71971972,  4.72972973,  4.73973974,  4.74974975,\n",
       "        4.75975976,  4.76976977,  4.77977978,  4.78978979,  4.7997998 ,\n",
       "        4.80980981,  4.81981982,  4.82982983,  4.83983984,  4.84984985,\n",
       "        4.85985986,  4.86986987,  4.87987988,  4.88988989,  4.8998999 ,\n",
       "        4.90990991,  4.91991992,  4.92992993,  4.93993994,  4.94994995,\n",
       "        4.95995996,  4.96996997,  4.97997998,  4.98998999,  5.        ])"
      ]
     },
     "execution_count": 26,
     "metadata": {},
     "output_type": "execute_result"
    }
   ],
   "source": [
    "# t distribution un pdf'ini çizelim:\n",
    "\n",
    "xs = np.linspace(-5, 5, 1000)\n",
    "xs"
   ]
  },
  {
   "cell_type": "code",
   "execution_count": 27,
   "metadata": {},
   "outputs": [
    {
     "data": {
      "text/plain": [
       "[<matplotlib.lines.Line2D at 0x1ca2d920148>]"
      ]
     },
     "execution_count": 27,
     "metadata": {},
     "output_type": "execute_result"
    },
    {
     "data": {
      "image/png": "[encoded data removed]",
      "text/plain": [
       "<Figure size 432x288 with 1 Axes>"
      ]
     },
     "metadata": {
      "needs_background": "light"
     },
     "output_type": "display_data"
    }
   ],
   "source": [
    "# önce t dağılımının plotunu görelim. \n",
    "\n",
    "xs = np.linspace(-5, 5, 1000)\n",
    "\n",
    "plt.plot(xs, stats.t.pdf(xs,3), \"b\", label = \"t-dist (df = 3)\")"
   ]
  },
  {
   "cell_type": "code",
   "execution_count": 29,
   "metadata": {},
   "outputs": [
    {
     "data": {
      "text/plain": [
       "<matplotlib.legend.Legend at 0x1ca2da01088>"
      ]
     },
     "execution_count": 29,
     "metadata": {},
     "output_type": "execute_result"
    },
    {
     "data": {
      "image/png": "[encoded data removed]",
      "text/plain": [
       "<Figure size 432x288 with 1 Axes>"
      ]
     },
     "metadata": {
      "needs_background": "light"
     },
     "output_type": "display_data"
    }
   ],
   "source": [
    "# t dağılımı ile normal dağılımı üst üste bindirip görelim:\n",
    "\n",
    "xs = np.linspace(-5, 5, 1000)\n",
    "\n",
    "plt.plot(xs, stats.t.pdf(xs,3), \"b\", label = \"t-dist (df = 3)\")\n",
    "\n",
    "plt.plot(xs, stats.norm.pdf(xs), \"k\", label = \"norm_dist\")\n",
    "\n",
    "plt.legend()\n",
    "\n",
    "# t dağılımı daha basık (spread daha fazla), standard deviation daha büyük."
   ]
  },
  {
   "cell_type": "code",
   "execution_count": 30,
   "metadata": {},
   "outputs": [
    {
     "data": {
      "text/plain": [
       "<matplotlib.legend.Legend at 0x1ca2db56dc8>"
      ]
     },
     "execution_count": 30,
     "metadata": {},
     "output_type": "execute_result"
    },
    {
     "data": {
      "image/png": "[encoded data removed]",
      "text/plain": [
       "<Figure size 864x576 with 1 Axes>"
      ]
     },
     "metadata": {
      "needs_background": "light"
     },
     "output_type": "display_data"
    }
   ],
   "source": [
    "plt.figure(figsize=(12,8))\n",
    "xs = np.linspace(-5,5,1000)\n",
    "plt.plot(xs, stats.t.pdf(xs,3), \"b\", label = \"t-dist (df=3)\")\n",
    "plt.plot(xs, stats.t.pdf(xs,5), \"g\", label = \"t-dist (df=5)\")\n",
    "plt.plot(xs, stats.t.pdf(xs,15), \"m\", label = \"t-dist (df=15)\")\n",
    "plt.plot(xs, stats.norm.pdf(xs), \"k\", label = \"norm-dist\")\n",
    "plt.legend()\n",
    "\n",
    "# serbestlik derecesi daha yüksek olan t dağılımının normal dağılıma daha yakın olduğunu görebiliyoruz."
   ]
  },
  {
   "cell_type": "code",
   "execution_count": 31,
   "metadata": {},
   "outputs": [
    {
     "data": {
      "text/plain": [
       "<matplotlib.legend.Legend at 0x1ca2dc08388>"
      ]
     },
     "execution_count": 31,
     "metadata": {},
     "output_type": "execute_result"
    },
    {
     "data": {
      "image/png": "[encoded data removed]",
      "text/plain": [
       "<Figure size 864x576 with 1 Axes>"
      ]
     },
     "metadata": {
      "needs_background": "light"
     },
     "output_type": "display_data"
    }
   ],
   "source": [
    "\n",
    "plt.figure(figsize=(12,8))\n",
    "xs = np.linspace(-5,5,1000)\n",
    "plt.plot(xs, stats.t.pdf(xs,3), \"b\", label = \"t-dist (df=3)\")\n",
    "plt.plot(xs, stats.t.pdf(xs,5), \"g\", label = \"t-dist (df=5)\")\n",
    "plt.plot(xs, stats.t.pdf(xs,15), \"m\", label = \"t-dist (df=15)\")\n",
    "plt.plot(xs, stats.t.pdf(xs,30), \"m\", label = \"t-dist (df=30)\")\n",
    "plt.plot(xs, stats.norm.pdf(xs), \"k\", label = \"norm-dist\")\n",
    "plt.legend()\n",
    "\n",
    "# dof=30 yaptığımızda t dağılımı neredeyse normal dağılımla aynı oldu."
   ]
  },
  {
   "cell_type": "markdown",
   "metadata": {},
   "source": [
    "## Confidence Intervals Using the Normal Distribution"
   ]
  },
  {
   "cell_type": "markdown",
   "metadata": {},
   "source": [
    "If we’re working with larger samples (n≥30), we can assume that the sampling distribution of the sample mean is normally distributed (thanks to the Central Limit Theorem) and can instead use the norm.interval() function from the scipy.stats library."
   ]
  },
  {
   "cell_type": "code",
   "execution_count": 27,
   "metadata": {},
   "outputs": [],
   "source": [
    "import seaborn as sns"
   ]
  },
  {
   "cell_type": "code",
   "execution_count": 28,
   "metadata": {},
   "outputs": [
    {
     "name": "stderr",
     "output_type": "stream",
     "text": [
      "C:\\Users\\salim\\Anaconda3\\lib\\site-packages\\seaborn\\utils.py:376: UserWarning: No parser was explicitly specified, so I'm using the best available HTML parser for this system (\"lxml\"). This usually isn't a problem, but if you run this code on another system, or in a different virtual environment, it may use a different parser and behave differently.\n",
      "\n",
      "The code that caused this warning is on line 376 of the file C:\\Users\\salim\\Anaconda3\\lib\\site-packages\\seaborn\\utils.py. To get rid of this warning, pass the additional argument 'features=\"lxml\"' to the BeautifulSoup constructor.\n",
      "\n",
      "  gh_list = BeautifulSoup(http)\n"
     ]
    },
    {
     "data": {
      "text/plain": [
       "['anagrams',\n",
       " 'anscombe',\n",
       " 'attention',\n",
       " 'brain_networks',\n",
       " 'car_crashes',\n",
       " 'diamonds',\n",
       " 'dots',\n",
       " 'exercise',\n",
       " 'flights',\n",
       " 'fmri',\n",
       " 'gammas',\n",
       " 'geyser',\n",
       " 'iris',\n",
       " 'mpg',\n",
       " 'penguins',\n",
       " 'planets',\n",
       " 'tips',\n",
       " 'titanic']"
      ]
     },
     "execution_count": 28,
     "metadata": {},
     "output_type": "execute_result"
    }
   ],
   "source": [
    "sns.get_dataset_names()"
   ]
  },
  {
   "cell_type": "markdown",
   "metadata": {},
   "source": [
    "1. Load \"tips\" dataset from Seaborn library"
   ]
  },
  {
   "cell_type": "code",
   "execution_count": 29,
   "metadata": {},
   "outputs": [
    {
     "ename": "SyntaxError",
     "evalue": "invalid syntax (<ipython-input-29-d37be25401a0>, line 1)",
     "output_type": "error",
     "traceback": [
      "\u001b[1;36m  File \u001b[1;32m\"<ipython-input-29-d37be25401a0>\"\u001b[1;36m, line \u001b[1;32m1\u001b[0m\n\u001b[1;33m    tips =\u001b[0m\n\u001b[1;37m           ^\u001b[0m\n\u001b[1;31mSyntaxError\u001b[0m\u001b[1;31m:\u001b[0m invalid syntax\n"
     ]
    }
   ],
   "source": [
    "tips = "
   ]
  },
  {
   "cell_type": "markdown",
   "metadata": {},
   "source": [
    "2. Draw a set of vertical bar plots (based on \"total_bill\") grouped by \"day\" variable:"
   ]
  },
  {
   "cell_type": "code",
   "execution_count": null,
   "metadata": {},
   "outputs": [],
   "source": []
  },
  {
   "cell_type": "markdown",
   "metadata": {},
   "source": [
    "3. Subset a dataframe just including Sunday tips"
   ]
  },
  {
   "cell_type": "code",
   "execution_count": null,
   "metadata": {},
   "outputs": [],
   "source": []
  },
  {
   "cell_type": "markdown",
   "metadata": {},
   "source": [
    "4. Calculate mean and std"
   ]
  },
  {
   "cell_type": "code",
   "execution_count": null,
   "metadata": {},
   "outputs": [],
   "source": []
  },
  {
   "cell_type": "code",
   "execution_count": null,
   "metadata": {},
   "outputs": [],
   "source": []
  },
  {
   "cell_type": "markdown",
   "metadata": {},
   "source": [
    "5. Calculate standart error of the mean"
   ]
  },
  {
   "cell_type": "code",
   "execution_count": null,
   "metadata": {},
   "outputs": [],
   "source": [
    "sem = "
   ]
  },
  {
   "cell_type": "code",
   "execution_count": null,
   "metadata": {},
   "outputs": [],
   "source": []
  },
  {
   "cell_type": "markdown",
   "metadata": {},
   "source": [
    "6. Calculate the margin of error (95%)"
   ]
  },
  {
   "cell_type": "code",
   "execution_count": null,
   "metadata": {},
   "outputs": [],
   "source": [
    "moe = "
   ]
  },
  {
   "cell_type": "code",
   "execution_count": null,
   "metadata": {},
   "outputs": [],
   "source": []
  },
  {
   "cell_type": "markdown",
   "metadata": {},
   "source": [
    "7. Calculate the upper confidence limit"
   ]
  },
  {
   "cell_type": "code",
   "execution_count": null,
   "metadata": {},
   "outputs": [],
   "source": []
  },
  {
   "cell_type": "markdown",
   "metadata": {},
   "source": [
    "8. Calculate the lower confidence limit"
   ]
  },
  {
   "cell_type": "code",
   "execution_count": null,
   "metadata": {},
   "outputs": [],
   "source": []
  },
  {
   "cell_type": "markdown",
   "metadata": {},
   "source": [
    "9. Calculate 95% Confidence Interval around the mean by using scipy.stats"
   ]
  },
  {
   "cell_type": "code",
   "execution_count": null,
   "metadata": {},
   "outputs": [],
   "source": []
  },
  {
   "cell_type": "code",
   "execution_count": null,
   "metadata": {},
   "outputs": [],
   "source": []
  },
  {
   "cell_type": "code",
   "execution_count": null,
   "metadata": {},
   "outputs": [],
   "source": []
  },
  {
   "cell_type": "code",
   "execution_count": null,
   "metadata": {},
   "outputs": [],
   "source": []
  }
 ],
 "metadata": {
  "kernelspec": {
   "display_name": "Python 3",
   "language": "python",
   "name": "python3"
  },
  "language_info": {
   "codemirror_mode": {
    "name": "ipython",
    "version": 3
   },
   "file_extension": ".py",
   "mimetype": "text/x-python",
   "name": "python",
   "nbconvert_exporter": "python",
   "pygments_lexer": "ipython3",
   "version": "3.7.8"
  }
 },
 "nbformat": 4,
 "nbformat_minor": 2
}
