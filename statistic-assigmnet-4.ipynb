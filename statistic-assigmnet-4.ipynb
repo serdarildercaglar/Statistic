{
 "cells": [
  {
   "cell_type": "code",
   "execution_count": 2,
   "id": "5d12857f",
   "metadata": {},
   "outputs": [],
   "source": [
    "import numpy as np\n",
    "import scipy.stats as stats\n",
    "import matplotlib.pyplot as plt"
   ]
  },
  {
   "cell_type": "markdown",
   "id": "0a054301",
   "metadata": {},
   "source": [
    "### EXERCISE 1. Answer the following questions by looking at the distribution table or coding with Python.\n",
    "\n"
   ]
  },
  {
   "cell_type": "markdown",
   "id": "058c3547",
   "metadata": {},
   "source": [
    " A salesperson has found that the probability of a sale on a single contact is approximately .3. If the salesperson contacts 10 prospects, what is the approximate probability of making at least one sale?\n"
   ]
  },
  {
   "cell_type": "code",
   "execution_count": 4,
   "id": "1eeff66c",
   "metadata": {},
   "outputs": [
    {
     "data": {
      "text/plain": [
       "0.9717524751000001"
      ]
     },
     "execution_count": 4,
     "metadata": {},
     "output_type": "execute_result"
    }
   ],
   "source": [
    "p = .3\n",
    "n = 10\n",
    "at_least_one = 1 - stats.binom.cdf(0,n,p)\n",
    "at_least_one"
   ]
  },
  {
   "cell_type": "markdown",
   "id": "9ffa54aa",
   "metadata": {},
   "source": [
    "Ten coins are tossed simultaneously. Find the probability of getting\n",
    "* (i) at least seven heads\n",
    "* (ii) exactly seven heads\n",
    "* (iii)at most seven heads\n"
   ]
  },
  {
   "cell_type": "code",
   "execution_count": 8,
   "id": "661f4121",
   "metadata": {},
   "outputs": [
    {
     "data": {
      "text/plain": [
       "0.171875"
      ]
     },
     "execution_count": 8,
     "metadata": {},
     "output_type": "execute_result"
    }
   ],
   "source": [
    "# at least 7 head\n",
    "p = .5\n",
    "n = 10\n",
    "1 - stats.binom.cdf(6,n,p)"
   ]
  },
  {
   "cell_type": "code",
   "execution_count": 9,
   "id": "cc39aa9f",
   "metadata": {},
   "outputs": [
    {
     "data": {
      "text/plain": [
       "0.11718750000000014"
      ]
     },
     "execution_count": 9,
     "metadata": {},
     "output_type": "execute_result"
    }
   ],
   "source": [
    "# exactly seven heads\n",
    "p = .5\n",
    "n = 10\n",
    "x = 7\n",
    "stats.binom.pmf(x,n,p)"
   ]
  },
  {
   "cell_type": "code",
   "execution_count": 12,
   "id": "4945f10f",
   "metadata": {},
   "outputs": [
    {
     "data": {
      "text/plain": [
       "0.9453125"
      ]
     },
     "execution_count": 12,
     "metadata": {},
     "output_type": "execute_result"
    }
   ],
   "source": [
    "# at most seven heads\n",
    "p = .5\n",
    "n = 10\n",
    "# P(X<7)\n",
    "stats.binom.cdf(7,n,p)\n"
   ]
  },
  {
   "cell_type": "markdown",
   "id": "c008328d",
   "metadata": {},
   "source": [
    " EXERCISE 2. The cycle time for trucks hauling concrete to a highway construction site is uniformly distributed over the interval 50 to 70 minutes. What is the probability that the cycle time exceeds 65 minutes  if it is known that the cycle time exceeds 55 minutes?\n"
   ]
  },
  {
   "cell_type": "code",
   "execution_count": 17,
   "id": "ce543268",
   "metadata": {},
   "outputs": [
    {
     "data": {
      "text/plain": [
       "0.3333333333333333"
      ]
     },
     "execution_count": 17,
     "metadata": {},
     "output_type": "execute_result"
    }
   ],
   "source": [
    "a = stats.uniform(50,20)\n",
    "sonuc = (1- a.cdf(65)) / (1-a.cdf(55))\n",
    "sonuc"
   ]
  },
  {
   "cell_type": "markdown",
   "id": "2911d54e",
   "metadata": {},
   "source": [
    "EXERCISE 3. The width of bolts of fabric is normally distributed with mean 950 mm (millimeters) and standard deviation 10 mm.\n",
    "\n",
    "* What is the probability that a randomly chosen bolt has a width of between 947 and 958mm?\n",
    "* What is the appropriate value for C such that a randomly chosen bolt has a width less than C with probability .8531?"
   ]
  },
  {
   "cell_type": "code",
   "execution_count": 22,
   "id": "c3b4b808",
   "metadata": {},
   "outputs": [
    {
     "data": {
      "text/plain": [
       "0.004844509975091005"
      ]
     },
     "execution_count": 22,
     "metadata": {},
     "output_type": "execute_result"
    }
   ],
   "source": [
    "# 1\n",
    "mean = 950\n",
    "std = 10\n",
    "p1 = stats.norm.cdf(950,10,958)\n",
    "p2 = stats.norm.cdf(958,10,947)\n",
    "p2-p1"
   ]
  },
  {
   "cell_type": "code",
   "execution_count": 31,
   "id": "d443bbea",
   "metadata": {},
   "outputs": [
    {
     "data": {
      "text/plain": [
       "960.4982190962642"
      ]
     },
     "execution_count": 31,
     "metadata": {},
     "output_type": "execute_result"
    }
   ],
   "source": [
    "# 2 \n",
    "obj = stats.norm(950,10)\n",
    "obj.ppf(.8531)\n"
   ]
  },
  {
   "cell_type": "markdown",
   "id": "cd5bc868",
   "metadata": {},
   "source": [
    "EXERCISE 4. Suppose scores on exams in statistics are normally distributed with an unknown population mean and a population standard deviation of 3 points. A random sample of 36 scores is taken and gives a sample mean (sample mean score) of 68. Find a confidence interval estimate for the population mean exam score (the mean score on all exams). Find a 90% confidence interval for the true (population) mean of statistics exam scores."
   ]
  },
  {
   "cell_type": "code",
   "execution_count": 35,
   "id": "72358ce7",
   "metadata": {},
   "outputs": [
    {
     "data": {
      "text/plain": [
       "(67.17757318652427, 68.82242681347573)"
      ]
     },
     "execution_count": 35,
     "metadata": {},
     "output_type": "execute_result"
    }
   ],
   "source": [
    "#sem std/np.sqrt(n)\n",
    "f = stats.norm.interval(.9,68,3/np.sqrt(36))\n",
    "f"
   ]
  },
  {
   "cell_type": "markdown",
   "id": "798cd954",
   "metadata": {},
   "source": [
    "EXERCISE 5.  What is the normal body temperature for healthy humans? A random sample of 130 healthy human body temperatures provided by Allen Shoemaker7 yielded 98.25 degrees and standard deviation 0.73 degrees. Give a 99% confidence interval for the average body temperature of healthy people.\n"
   ]
  },
  {
   "cell_type": "code",
   "execution_count": 38,
   "id": "eabc8eac",
   "metadata": {},
   "outputs": [
    {
     "data": {
      "text/plain": [
       "(98.08508192246582, 98.41491807753418)"
      ]
     },
     "execution_count": 38,
     "metadata": {},
     "output_type": "execute_result"
    }
   ],
   "source": [
    "g = stats.norm.interval(.99,98.25,.73/np.sqrt(130))\n",
    "g"
   ]
  },
  {
   "cell_type": "markdown",
   "id": "175d6e5e",
   "metadata": {},
   "source": [
    "Does the confidence interval obtained in part (a) contain the value 98.6 degrees, the accepted average temperature cited by physicians and others? What conclusions can you draw? (Wackerly, Ex.8.60)\n"
   ]
  },
  {
   "cell_type": "code",
   "execution_count": null,
   "id": "24dc5524",
   "metadata": {},
   "outputs": [],
   "source": [
    "H0 = 98,6\n",
    "we should reject the H0. Because HA is not between g[0] and g[1]"
   ]
  }
 ],
 "metadata": {
  "kernelspec": {
   "display_name": "Python 3",
   "language": "python",
   "name": "python3"
  },
  "language_info": {
   "codemirror_mode": {
    "name": "ipython",
    "version": 3
   },
   "file_extension": ".py",
   "mimetype": "text/x-python",
   "name": "python",
   "nbconvert_exporter": "python",
   "pygments_lexer": "ipython3",
   "version": "3.8.8"
  }
 },
 "nbformat": 4,
 "nbformat_minor": 5
}
